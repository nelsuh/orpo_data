{
  "cells": [
    {
      "cell_type": "code",
      "execution_count": null,
      "metadata": {
        "id": "-owkO6uIM-3t"
      },
      "outputs": [],
      "source": [
        "\"title\":\"titles\", \"mon\": \"mon text\", \"eng\": \"eng text\"\n",
        "\"modelmon\": \"model mon text\", \"id\": \"numebersUsion_(index)\""
      ]
    },
    {
      "cell_type": "code",
      "execution_count": null,
      "metadata": {
        "id": "usxVM0BjM-3u"
      },
      "outputs": [],
      "source": [
        "import json\n",
        "import re\n",
        "\n",
        "# Function to extract the numeric index from the id field\n",
        "def extract_index(id_str):\n",
        "    match = re.search(r'Usion_(\\d+)', id_str)\n",
        "    if match:\n",
        "        return int(match.group(1))\n",
        "    return None\n",
        "\n",
        "# File paths (replace with your actual paths)\n",
        "input_file_path = 'niitlegal3.jsonl'\n",
        "output_file_path = 'sortedniit3.jsonl'\n",
        "\n",
        "# Store parsed JSON lines with extracted index values\n",
        "lines = []\n",
        "\n",
        "# Read and parse the input file\n",
        "with open(input_file_path, 'r') as input_file:\n",
        "    for line_num, line in enumerate(input_file, start=1):\n",
        "        try:\n",
        "            # Parse the JSON line\n",
        "            json_obj = json.loads(line.strip())\n",
        "\n",
        "            # Extract the index from the id field\n",
        "            index = extract_index(json_obj['id'])\n",
        "\n",
        "            # If the index is valid, store the line; otherwise, log a warning\n",
        "            if index is not None:\n",
        "                lines.append((index, json_obj))\n",
        "            else:\n",
        "                print(f\"Warning: No valid index found for line {line_num} with id {json_obj['id']}\")\n",
        "\n",
        "        except json.JSONDecodeError as e:\n",
        "            print(f\"Error: Invalid JSON at line {line_num}: {e}\")\n",
        "\n",
        "# Sort the lines by the extracted index value\n",
        "sorted_lines = sorted(lines, key=lambda x: x[0])\n",
        "\n",
        "# Write the sorted JSON lines to the output file\n",
        "with open(output_file_path, 'w', encoding='utf-8') as output_file:\n",
        "    for _, json_obj in sorted_lines:\n",
        "        output_file.write(json.dumps(json_obj, ensure_ascii=False) + '\\n')"
      ]
    },
    {
      "cell_type": "code",
      "execution_count": null,
      "metadata": {
        "id": "0kDMn_JFM-3v"
      },
      "outputs": [],
      "source": [
        "import json\n",
        "def extract_eng_texts_from_jsonl(file_path):\n",
        "    eng_texts = []\n",
        "    with open(file_path, 'r', encoding='utf-8') as file:\n",
        "        for line in file:\n",
        "            json_obj = json.loads(line)\n",
        "            eng_text = json_obj.get(\"eng\", \"\")\n",
        "            eng_texts.append(eng_text)\n",
        "    return eng_texts\n",
        "def extract_mon_texts_from_jsonl(file_path):\n",
        "    mon_texts = []\n",
        "    with open(file_path, 'r', encoding='utf-8') as file:\n",
        "        for line in file:\n",
        "            json_obj = json.loads(line)\n",
        "            mon_text = json_obj.get(\"mon\", \"\")\n",
        "            mon_texts.append(mon_text)\n",
        "    return mon_texts\n",
        "def extract_titles_from_jsonl(file_path):\n",
        "    titles = []\n",
        "    with open(file_path, 'r', encoding='utf-8') as file:\n",
        "        for line in file:\n",
        "            json_obj = json.loads(line)\n",
        "            title = json_obj.get(\"title\", \"\")\n",
        "            titles.append(title)\n",
        "    return titles\n",
        "def extract_modelmon_from_jsonl(file_pat):\n",
        "    modelmon = []\n",
        "    with open(file_path, 'r', encoding='utf-8') as file:\n",
        "        for line in file:\n",
        "            json_obj = json.loads(line)\n",
        "            modelmo= json_obj.get(\"modelmon\", \"\")\n",
        "            modelmon.append(modelmo)\n",
        "    return modelmon\n",
        "# Load paragraphs\n",
        "file_path = 'legalniit.jsonl'\n",
        "file_pat = 'sortedniit3.jsonl'\n",
        "eng_texts = extract_eng_texts_from_jsonl(file_path)\n",
        "mon_texts = extract_mon_texts_from_jsonl(file_path)\n",
        "titles = extract_titles_from_jsonl(file_path)\n",
        "modelmon = extract_modelmon_from_jsonl(file_pat)\n",
        "for i in range(len(eng_texts)):\n",
        "    output_data = {\n",
        "                \"title\": titles[i],\n",
        "                \"mon\": mon_texts[i],\n",
        "                \"eng\": eng_texts[i],\n",
        "                \"modelmon\": modelmon[i]\n",
        "    }\n",
        "\n",
        "    with open('super_end1.jsonl', 'a', encoding='utf-8') as outfile:\n",
        "        json.dump(output_data, outfile, ensure_ascii=False)\n",
        "        outfile.write('\\n')  # Newline for JSONL format"
      ]
    },
    {
      "cell_type": "code",
      "execution_count": null,
      "metadata": {
        "id": "XI2W7cS5M-3v",
        "outputId": "1b64a0f4-c05a-432d-871c-d1f347c43998"
      },
      "outputs": [
        {
          "data": {
            "text/plain": [
              "''"
            ]
          },
          "execution_count": 23,
          "metadata": {},
          "output_type": "execute_result"
        }
      ],
      "source": [
        "modelmon[2]"
      ]
    },
    {
      "cell_type": "code",
      "execution_count": null,
      "metadata": {
        "id": "0S5xGahCM-3w"
      },
      "outputs": [],
      "source": [
        "for i in range(len(eng_texts)):\n",
        "    output_data = {\n",
        "                \"title\": titles[i],\n",
        "                \"mon\": mon_texts[i],\n",
        "                \"eng\": eng_texts[i],\n",
        "                \"modelmon\": modelmon[i]\n",
        "    }\n",
        "\n",
        "    with open('super_end.jsonl', 'a', encoding='utf-8') as outfile:\n",
        "        json.dump(output_data, outfile, ensure_ascii=False)\n",
        "        outfile.write('\\n')  # Newline for JSONL format"
      ]
    },
    {
      "cell_type": "code",
      "execution_count": null,
      "metadata": {
        "id": "nRfUTV5qM-3w"
      },
      "outputs": [],
      "source": [
        "import json\n",
        "\n",
        "# Extract function for \"eng\" texts\n",
        "def extract_eng_texts_from_jsonl(file_path):\n",
        "    eng_texts = []\n",
        "    with open(file_path, 'r', encoding='utf-8') as file:\n",
        "        for line in file:\n",
        "            json_obj = json.loads(line.strip())\n",
        "            eng_text = json_obj.get(\"eng\", \"\")\n",
        "            eng_texts.append(eng_text)\n",
        "    return eng_texts\n",
        "\n",
        "# Extract function for \"mon\" texts\n",
        "def extract_mon_texts_from_jsonl(file_path):\n",
        "    mon_texts = []\n",
        "    with open(file_path, 'r', encoding='utf-8') as file:\n",
        "        for line in file:\n",
        "            json_obj = json.loads(line.strip())\n",
        "            mon_text = json_obj.get(\"mon\", \"\")\n",
        "            mon_texts.append(mon_text)\n",
        "    return mon_texts\n",
        "\n",
        "# Extract function for \"title\" texts\n",
        "def extract_titles_from_jsonl(file_path):\n",
        "    titles = []\n",
        "    with open(file_path, 'r', encoding='utf-8') as file:\n",
        "        for line in file:\n",
        "            json_obj = json.loads(line.strip())\n",
        "            title = json_obj.get(\"title\", \"\")\n",
        "            titles.append(title)\n",
        "    return titles\n",
        "\n",
        "# Extract function for \"modelmon\" texts\n",
        "def extract_modelmon_from_jsonl(file_path):\n",
        "    modelmon = []\n",
        "    with open(file_path, 'r', encoding='utf-8') as file:\n",
        "        for line in file:\n",
        "            json_obj = json.loads(line.strip())\n",
        "            modelmo = json_obj.get(\"modelmon\", \"\")\n",
        "            modelmon.append(modelmo)\n",
        "    return modelmon\n",
        "\n",
        "# Load paragraphs\n",
        "file_path_1 = 'legalniit.jsonl'\n",
        "file_path_2 = 'sortedniit3.jsonl'\n",
        "\n",
        "# Extract data using defined functions\n",
        "eng_texts = extract_eng_texts_from_jsonl(file_path_1)\n",
        "mon_texts = extract_mon_texts_from_jsonl(file_path_1)\n",
        "titles = extract_titles_from_jsonl(file_path_1)\n",
        "modelmon = extract_modelmon_from_jsonl(file_path_2)\n",
        "\n",
        "# Check if all lists have the same length before merging\n",
        "if len(eng_texts) == len(mon_texts) == len(titles) == len(modelmon):\n",
        "    with open('super_end2.jsonl', 'w', encoding='utf-8') as outfile:\n",
        "        for i in range(len(eng_texts)):\n",
        "            output_data = {\n",
        "                \"title\": titles[i],\n",
        "                \"mon\": mon_texts[i],\n",
        "                \"eng\": eng_texts[i],\n",
        "                \"modelmon\": modelmon[i]\n",
        "            }\n",
        "            json.dump(output_data, outfile, ensure_ascii=False)\n",
        "            outfile.write('\\n')  # Newline for JSONL format\n",
        "else:\n",
        "    print(\"Error: Input lists have different lengths. Ensure input JSONL files are consistent.\")\n"
      ]
    },
    {
      "cell_type": "code",
      "execution_count": null,
      "metadata": {
        "id": "VilLqhbMM-3w"
      },
      "outputs": [],
      "source": []
    }
  ],
  "metadata": {
    "kernelspec": {
      "display_name": "Python 3",
      "language": "python",
      "name": "python3"
    },
    "language_info": {
      "codemirror_mode": {
        "name": "ipython",
        "version": 3
      },
      "file_extension": ".py",
      "mimetype": "text/x-python",
      "name": "python",
      "nbconvert_exporter": "python",
      "pygments_lexer": "ipython3",
      "version": "3.10.12"
    },
    "colab": {
      "provenance": []
    }
  },
  "nbformat": 4,
  "nbformat_minor": 0
}
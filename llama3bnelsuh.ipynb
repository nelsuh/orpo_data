{
 "cells": [
  {
   "cell_type": "code",
   "execution_count": null,
   "metadata": {},
   "outputs": [],
   "source": [
    "!pip install -qqq -U transformers datasets accelerate peft trl bitsandbytes wandb --progress-bar off"
   ]
  },
  {
   "cell_type": "code",
   "execution_count": null,
   "metadata": {},
   "outputs": [],
   "source": [
    "import transformers\n",
    "import torch\n",
    "\n",
    "model_id = \"Nelsuh/OrpoLlama-3-8B\"\n",
    "\n",
    "pipeline = transformers.pipeline(\"text-generation\", model=model_id, model_kwargs={\"torch_dtype\": torch.bfloat16}, device_map=\"auto\")\n"
   ]
  },
  {
   "cell_type": "code",
   "execution_count": null,
   "metadata": {},
   "outputs": [],
   "source": [
    "pipeline(\"Англи хэлрүү орчуул: 35 дугаар зүйл.Хууль хүчин төгөлдөр болох35.1.Энэ хуулийг 2006 оны 11 дүгээр сарын 01-ний өдрөөс эхлэн дагаж мөрдөнө.МОНГОЛ УЛСЫН ИХ ХУРЛЫН ДАРГА Ц.НЯМДОРЖ\")"
   ]
  }
 ],
 "metadata": {
  "language_info": {
   "name": "python"
  }
 },
 "nbformat": 4,
 "nbformat_minor": 2
}
